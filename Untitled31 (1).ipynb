{
 "cells": [
  {
   "cell_type": "code",
   "execution_count": null,
   "id": "90049892",
   "metadata": {},
   "outputs": [],
   "source": [
    "#Q1. Write a code to print the data present in the second row of the dataframe, df\n",
    "import pandas as pd\n",
    "course_name = ['Data Science', 'Machine Learning', 'Big Data', 'Data Engineer']\n",
    "duration = [2, 3, 6, 4]\n",
    "df = pd.DataFrame(data={'course_name': course_name, 'duration': duration})\n",
    "print(df.iloc[1, :])\n"
   ]
  },
  {
   "cell_type": "code",
   "execution_count": null,
   "id": "58084168",
   "metadata": {},
   "outputs": [],
   "source": [
    "#Q2. What is the difference between the functions loc and iloc in pandas.DataFrame?\n",
    "\n",
    "The loc function uses labels to select data. For example, to select the data in the second row of the DataFrame, you would use the following code:\n",
    "\n",
    "Python\n",
    "df.loc[1, :]\n",
    "\n",
    "The iloc function uses integer positions to select data. For example, to select the data in the second row of the DataFrame, you would use the following code:\n",
    "\n",
    "Python\n",
    "df.iloc[1, :]"
   ]
  },
  {
   "cell_type": "code",
   "execution_count": null,
   "id": "d1e9bd71",
   "metadata": {},
   "outputs": [],
   "source": [
    "#4. Write a code to find the following statistical measurements for the above dataframe df1:\n",
    "#(i) mean of each and every column present in the dataframe.\n",
    "#(ii) standard deviation of column, ‘column_2’\n",
    "import pandas as pd\n",
    "course_name = ['Data Science', 'Machine Learning', 'Big Data', 'Data Engineer']\n",
    "duration = [2, 3, 6, 4]\n",
    "df = pd.DataFrame(data={'course_name': course_name, 'duration': duration})\n",
    "\n",
    "# Calculate the mean of each column in the dataframe.\n",
    "means = df.mean(axis=0)\n",
    "\n",
    "# Calculate the standard deviation of column 'column_2'.\n",
    "std = df['column_2'].std()\n",
    "\n",
    "print('Means of each column:')\n",
    "print(means)\n",
    "print('Standard deviation of column 2:')\n",
    "print(std)\n"
   ]
  },
  {
   "cell_type": "code",
   "execution_count": null,
   "id": "81faa58c",
   "metadata": {},
   "outputs": [],
   "source": [
    "#Q5. Replace the data present in the second row of column, ‘column_2’ by a string variable then find the\n",
    "mean of column, column_2.\n",
    "If you are getting errors in executing it then explain why.\n",
    "[Hint: To replace the data use df1.loc[] and equate this to string data of your choice.]\n",
    "\n",
    "Python\n",
    "import pandas as pd\n",
    "course_name = ['Data Science', 'Machine Learning', 'Big Data', 'Data Engineer']\n",
    "duration = [2, 3, 6, 4]\n",
    "df = pd.DataFrame(data={'course_name': course_name, 'duration': duration})\n",
    "\n",
    "# Replace the data present in the second row of column 'column_2' by a string variable.\n",
    "df.loc[1, 'duration'] = 'string_variable'\n",
    "\n",
    "# Calculate the mean of column 'column_2'.\n",
    "mean = df['duration'].mean()\n",
    "\n",
    "print('Mean of column 2:')\n",
    "print(mean)"
   ]
  },
  {
   "cell_type": "code",
   "execution_count": null,
   "id": "bfc338b0",
   "metadata": {},
   "outputs": [],
   "source": [
    "#Q6. What do you understand about the windows function in pandas and list the types of windows\n",
    "functions?\n",
    "\n",
    "The windows function in Pandas is used to calculate statistical measurements over a moving window of data. The moving window can be of any size, and it can be applied to any column in a DataFrame.\n",
    "\n",
    "There are several types of windows functions in Pandas, including:\n",
    "\n",
    "mean(): Calculates the mean of the data in the moving window.\n",
    "std(): Calculates the standard deviation of the data in the moving window.\n",
    "min(): Calculates the minimum value of the data in the moving window.\n",
    "max(): Calculates the maximum value of the data in the moving window.\n",
    "The windows function can be used to analyze trends in data, to detect anomalies in data, and to smooth out noise in data."
   ]
  },
  {
   "cell_type": "code",
   "execution_count": null,
   "id": "b3be4db2",
   "metadata": {},
   "outputs": [],
   "source": [
    "#Q7. Write a code to print only the current month and year at the time of answering this question.\n",
    "#[Hint: Use pandas.datetime function]\n",
    "\n",
    "Python\n",
    "import pandas as pd\n",
    "import datetime\n",
    "\n",
    "today = datetime.datetime.today()\n",
    "\n",
    "# Print only the current month and year.\n",
    "print(today.strftime('%b-%Y'))"
   ]
  },
  {
   "cell_type": "code",
   "execution_count": null,
   "id": "707ce866",
   "metadata": {},
   "outputs": [],
   "source": [
    "#Q8. Write a Python program that takes in two dates as input (in the format YYYY-MM-DD) and calculates the difference between them in days, hours, and minutes using Pandas time delta. The program should prompt the user to enter the dates and display the result.\n",
    "import pandas as pd\n",
    "import datetime\n",
    "\n",
    "def calculate_time_difference(start_date, end_date):\n",
    "    # Convert the dates to datetime objects.\n",
    "    start_date = pd.to_datetime(start_date)\n",
    "    end_date = pd.to_datetime(end_date)\n",
    "\n",
    "    # Calculate the time difference between the two dates.\n",
    "    time_difference = end_date - start_date\n",
    "\n",
    "    # Print the time difference in days, hours, and minutes.\n",
    "    print('The time difference is:')\n",
    "    print(time_difference.days, 'days,', time_difference.seconds // 3600, 'hours,', time_difference.seconds // 60 % 60, 'minutes.')\n",
    "\n",
    "if __name__ == '__main__':\n",
    "    # Prompt the user to enter the start date.\n",
    "    start_date = input('Enter the start date (YYYY-MM-DD): ')\n",
    "\n",
    "    # Prompt the user to enter the end date.\n",
    "    end_date = input('Enter the end date (YYYY-MM-DD): ')\n",
    "\n",
    "    # Calculate the time difference between the two dates.\n",
    "    calculate_time_difference(start_date, end_date)\n",
    "\n"
   ]
  }
 ],
 "metadata": {
  "kernelspec": {
   "display_name": "Python 3 (ipykernel)",
   "language": "python",
   "name": "python3"
  },
  "language_info": {
   "codemirror_mode": {
    "name": "ipython",
    "version": 3
   },
   "file_extension": ".py",
   "mimetype": "text/x-python",
   "name": "python",
   "nbconvert_exporter": "python",
   "pygments_lexer": "ipython3",
   "version": "3.11.3"
  }
 },
 "nbformat": 4,
 "nbformat_minor": 5
}

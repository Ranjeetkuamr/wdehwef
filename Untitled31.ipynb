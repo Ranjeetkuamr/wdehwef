{
 "cells": [
  {
   "cell_type": "code",
   "execution_count": null,
   "id": "3323a7b0",
   "metadata": {},
   "outputs": [],
   "source": [
    "#Q1. What is Web Scraping? Why is it Used? Give three areas where Web Scraping is used to get data.\n",
    "Web scraping is the process of extracting data from websites. It is used to collect data that is not otherwise available to the public, such as product prices, customer reviews, or stock market data. Web scraping can be used in a variety of areas, including:\n",
    "\n",
    "Business intelligence: Web scraping can be used to collect data about competitors, customers, or market trends. This data can be used to make better business decisions.\n",
    "Data analysis: Web scraping can be used to collect data for analysis. This data can be used to identify patterns, trends, and correlations.\n",
    "Data mining: Web scraping can be used to collect data for data mining. This data can be used to build predictive models or identify hidden insights."
   ]
  },
  {
   "cell_type": "code",
   "execution_count": null,
   "id": "848e7a9b",
   "metadata": {},
   "outputs": [],
   "source": [
    "#Q2. What are the different methods used for Web Scraping?\n",
    "\n",
    "There are a variety of methods that can be used for web scraping. Some of the most common methods include:\n",
    "\n",
    "HTML parsing: HTML parsing is the process of extracting data from the HTML code of a web page. This is the most basic method of web scraping, and it can be used to extract data from static web pages.\n",
    "DOM parsing: DOM parsing is the process of extracting data from the Document Object Model (DOM) of a web page. The DOM is a tree-like representation of the HTML code of a web page, and it can be used to extract data from dynamic web pages.\n",
    "APIs: Some websites offer APIs that can be used to extract data from their websites. APIs are often more efficient than web scraping, and they can be used to extract data from dynamic web pages.\n",
    "Selenium: Selenium is a tool that can be used to automate web interactions. Selenium can be used to scrape data from websites that require user interaction, such as clicking buttons or filling out forms."
   ]
  },
  {
   "cell_type": "code",
   "execution_count": null,
   "id": "d85b94e7",
   "metadata": {},
   "outputs": [],
   "source": [
    "#Q3. What is Beautiful Soup? Why is it used?\n",
    "\n",
    "Beautiful Soup is a Python library that is used for web scraping. It can be used to extract data from HTML and XML files. Beautiful Soup is a powerful tool that can be used to scrape data from a variety of websites."
   ]
  },
  {
   "cell_type": "code",
   "execution_count": null,
   "id": "d5a0daec",
   "metadata": {},
   "outputs": [],
   "source": [
    "#Q4. Why is flask used in this Web Scraping project?\n",
    "\n",
    "Flask is a Python microframework that is used to create web applications. It is a lightweight framework that is easy to learn and use. Flask is used in this web scraping project to create a simple web application that allows users to view the data that has been scraped from the website."
   ]
  },
  {
   "cell_type": "code",
   "execution_count": null,
   "id": "1bb7a73e",
   "metadata": {},
   "outputs": [],
   "source": [
    "#Q5. Write the names of AWS services used in this project. Also, explain the use of each service.\n",
    "\n",
    "The AWS services used in this project are:\n",
    "\n",
    "S3: S3 is a cloud storage service that is used to store the data that has been scraped from the website.\n",
    "Lambda: Lambda is a serverless computing service that is used to run the web scraping code.\n",
    "API Gateway: API Gateway is a service that is used to create and manage APIs. The API that is created in this project allows users to view the data that has been scraped from the website."
   ]
  }
 ],
 "metadata": {
  "kernelspec": {
   "display_name": "Python 3 (ipykernel)",
   "language": "python",
   "name": "python3"
  },
  "language_info": {
   "codemirror_mode": {
    "name": "ipython",
    "version": 3
   },
   "file_extension": ".py",
   "mimetype": "text/x-python",
   "name": "python",
   "nbconvert_exporter": "python",
   "pygments_lexer": "ipython3",
   "version": "3.11.3"
  }
 },
 "nbformat": 4,
 "nbformat_minor": 5
}
